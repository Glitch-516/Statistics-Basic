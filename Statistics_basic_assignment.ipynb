{
  "nbformat": 4,
  "nbformat_minor": 0,
  "metadata": {
    "colab": {
      "provenance": []
    },
    "kernelspec": {
      "name": "python3",
      "display_name": "Python 3"
    },
    "language_info": {
      "name": "python"
    }
  },
  "cells": [
    {
      "cell_type": "markdown",
      "source": [
        "#THEORY\n",
        "\n"
      ],
      "metadata": {
        "id": "yIM_sIVizfZ6"
      }
    },
    {
      "cell_type": "markdown",
      "source": [
        "1. What is statistics, and why is it important?\n",
        ">Statistics is the science of collecting, analyzing, interpreting, presenting, and organizing data.\n",
        "\n",
        "2. What are the two main types of statistics?\n",
        ">Descriptive Statistics: Summarize and describe features of a dataset.\n",
        "\n",
        "  >Inferential Statistics: Make predictions or inferences about a population based on a sample.\n",
        "\n",
        "3. What are descriptive statistics?\n",
        ">Descriptive statistics use numbers and graphs to summarize data.\n",
        "Examples: Mean, median, mode, standard deviation, range, frequency.\n",
        "\n",
        "4. What is inferential statistics?\n",
        ">Inferential statistics use data from a sample to draw conclusions about a larger population.\n",
        "Examples: Hypothesis testing, confidence intervals, regression analysis.\n",
        "\n",
        "5. What is sampling in statistics?\n",
        ">Sampling is selecting a subset (sample) from a larger group (population) to analyze and draw conclusions.\n",
        "\n",
        "6. What are the different types of sampling methods?\n",
        ">Random Sampling: Equal chance for all.\n",
        "\n",
        "  >Systematic Sampling: Every k-th element.\n",
        "\n",
        "  >Stratified Sampling: Groups divided by characteristics, then sampled.\n",
        "\n",
        "  >Cluster Sampling: Random groups selected.\n",
        "\n",
        "  >Convenience Sampling: Based on ease of access.\n",
        "\n",
        "  >Judgmental/Purposive Sampling: Based on expert judgment.\n",
        "\n",
        "7. What is the difference between random and non-random sampling?\n",
        ">Random Sampling: Every member has an equal chance (less bias).\n",
        "\n",
        "  >Non-Random Sampling: Selection is subjective or based on convenience (more bias).\n",
        "\n",
        "8. Define and give examples of qualitative and quantitative data.\n",
        ">Qualitative (Categorical): Describes characteristics or qualities.\n",
        " Example: Colors, gender, brands.\n",
        "\n",
        "  >Quantitative (Numerical): Can be measured numerically.\n",
        "    >Example: Height, age, income.\n",
        "\n",
        "9. What are the different types of data in statistics?\n",
        ">Qualitative (Nominal, Ordinal)\n",
        "\n",
        "  >Quantitative (Interval, Ratio)\n",
        "\n",
        "10. Explain nominal, ordinal, interval, and ratio levels of measurement.\n",
        "Level\tDescription\tExample\n",
        ">Nominal\tCategories with no order\tGender, color\n",
        "  >Ordinal\tOrdered categories, unequal gaps\tRanks, survey ratings\n",
        "  >Interval\tOrdered, equal gaps, no true zero\tTemperature (°C, °F)\n",
        "  >Ratio\tOrdered, equal gaps, true zero exists\tAge, weight, income\n",
        "\n",
        "11. What is the measure of central tendency?\n",
        ">It identifies the center or typical value in a dataset.\n",
        "\n",
        "12. Define mean, median, and mode.\n",
        ">Mean: Arithmetic average.\n",
        "\n",
        "  >Median: Middle value.\n",
        "\n",
        "  >Mode: Most frequent value.\n",
        "\n",
        "13. What is the significance of the measure of central tendency?\n",
        ">It helps to summarize a large dataset with a single representative value.\n",
        "\n",
        "14. What is variance, and how is it calculated?\n",
        ">Variance measures the spread of data around the mean.\n",
        "\n",
        "Variance\n",
        "=\n",
        "∑\n",
        "(\n",
        "𝑥\n",
        "𝑖\n",
        "−\n",
        "𝑥\n",
        "ˉ\n",
        ")\n",
        "2\n",
        "𝑛\n",
        ">Variance=\n",
        "n\n",
        "∑(x\n",
        "i\n",
        "​\n",
        " −\n",
        "x\n",
        "ˉ\n",
        " )\n",
        "2\n",
        "\n",
        "​\n",
        "\n",
        ">Where\n",
        "𝑥\n",
        "𝑖\n",
        "x\n",
        "i\n",
        "​\n",
        "  is a data point,\n",
        "𝑥\n",
        "ˉ\n",
        "x\n",
        "ˉ\n",
        "  is the mean, and\n",
        "𝑛\n",
        "n is the number of observations.\n",
        "\n",
        "15. What is standard deviation, and why is it important?\n",
        ">Standard deviation is the square root of variance.\n",
        "  > Importance: It shows how spread out the data is — more intuitive than variance.\n",
        "\n",
        "16. Define and explain the term range in statistics.\n",
        ">Range = Maximum value – Minimum value\n",
        "  >It gives a quick measure of data spread.\n",
        "\n",
        "17. What is the difference between variance and standard deviation?\n",
        ">Variance: Average squared deviation from the mean.\n",
        "\n",
        "  >Standard Deviation: Square root of variance (in same units as data).\n",
        "\n",
        "18. What is skewness in a dataset?\n",
        ">Skewness measures the asymmetry of a distribution.\n",
        "\n",
        "  >Positive skew: Tail on the right.\n",
        "\n",
        "  >Negative skew: Tail on the left.\n",
        "\n",
        "19. What does it mean if a dataset is positively or negatively skewed?\n",
        ">Positively skewed: Mean > Median (long right tail)\n",
        "\n",
        "  >Negatively skewed: Mean < Median (long left tail)\n",
        "\n",
        "20. Define and explain kurtosis.\n",
        ">Kurtosis measures the “tailedness” or peak of a distribution.\n",
        "\n",
        "  >High kurtosis: Heavy tails, outliers likely.\n",
        "\n",
        "  >Low kurtosis: Light tails, fewer outliers.\n",
        "\n",
        "21. What is the purpose of covariance?\n",
        ">Covariance shows the direction of the linear relationship between two variables.\n",
        "  > Positive → both increase together. Negative → one increases, other decreases.\n",
        "\n",
        "22. What does correlation measure in statistics?\n",
        ">Correlation quantifies the strength and direction of the relationship between two variables.\n",
        "  > Range: -1 to +1\n",
        "  >(0 = no correlation)\n",
        "\n",
        "23. What is the difference between covariance and correlation?\n",
        ">Feature\tCovariance\tCorrelation\n",
        "  >Scale\tUnbounded\tBetween -1 and 1\n",
        "  >Interpretation\tDirection only\tDirection and strength\n",
        "\n",
        "24. What are some real-world applications of statistics?\n",
        ">Healthcare: Drug effectiveness, patient data analysis.\n",
        "\n",
        "  >Business: Market trends, customer behavior.\n",
        "\n",
        "  >Education: Performance analysis, dropout prediction.\n",
        "\n",
        "  >Government: Census, policy making.\n",
        "\n",
        "  >Cybersecurity: Intrusion detection patterns."
      ],
      "metadata": {
        "id": "3pX9zyBlzoDO"
      }
    },
    {
      "cell_type": "markdown",
      "source": [
        "# Practical\n"
      ],
      "metadata": {
        "id": "wSLvB_4T2gWE"
      }
    },
    {
      "cell_type": "code",
      "source": [
        "#1. Calculate Mean, Median, Mode of a Dataset\n",
        "import statistics\n",
        "\n",
        "data = [2, 4, 4, 6, 8, 10, 10, 10]\n",
        "\n",
        "mean = statistics.mean(data)\n",
        "median = statistics.median(data)\n",
        "mode = statistics.mode(data)\n",
        "\n",
        "print(f\"Mean: {mean}, Median: {median}, Mode: {mode}\")\n"
      ],
      "metadata": {
        "colab": {
          "base_uri": "https://localhost:8080/"
        },
        "id": "CVMLOAsr2-J0",
        "outputId": "901767ff-9ebd-4007-ce14-6ebfa558b34b"
      },
      "execution_count": null,
      "outputs": [
        {
          "output_type": "stream",
          "name": "stdout",
          "text": [
            "Mean: 6.75, Median: 7.0, Mode: 10\n"
          ]
        }
      ]
    },
    {
      "cell_type": "code",
      "source": [
        "#Variance and Standard Deviation using Python\n",
        "import statistics\n",
        "\n",
        "data = [10, 12, 23, 23, 16, 23, 21, 16]\n",
        "\n",
        "variance = statistics.variance(data)\n",
        "std_dev = statistics.stdev(data)\n",
        "\n",
        "print(f\"Variance: {variance}, Standard Deviation: {std_dev}\")\n"
      ],
      "metadata": {
        "colab": {
          "base_uri": "https://localhost:8080/"
        },
        "id": "EcAO3Aaj3uKJ",
        "outputId": "79c84e0b-b5f8-4e76-c495-51807ddac295"
      },
      "execution_count": null,
      "outputs": [
        {
          "output_type": "stream",
          "name": "stdout",
          "text": [
            "Variance: 27.428571428571427, Standard Deviation: 5.237229365663818\n"
          ]
        }
      ]
    },
    {
      "cell_type": "code",
      "source": [
        "#3. Classify Dataset into Nominal, Ordinal, Interval, Ratio\n",
        "dataset = {\n",
        "    'Nominal': ['Red', 'Blue', 'Green'],\n",
        "    'Ordinal': ['Poor', 'Fair', 'Good', 'Excellent'],\n",
        "    'Interval': [20, 30, 40, 50],\n",
        "    'Ratio': [10, 20, 30, 40]\n",
        "}\n"
      ],
      "metadata": {
        "id": "FnbyINIt33_b"
      },
      "execution_count": null,
      "outputs": []
    },
    {
      "cell_type": "code",
      "source": [
        "# 4. Random and Stratified Sampling\n",
        "import pandas as pd\n",
        "from sklearn.model_selection import train_test_split\n",
        "\n",
        "# Random Sampling\n",
        "data = pd.DataFrame({'values': range(100)})\n",
        "random_sample = data.sample(n=10)\n",
        "\n",
        "# Stratified Sampling\n",
        "df = pd.DataFrame({'Category': ['A']*50 + ['B']*50, 'Value': range(100)})\n",
        "stratified_sample = df.groupby('Category', group_keys=False).apply(lambda x: x.sample(5))\n",
        "\n",
        "print(\"Random Sample:\\n\", random_sample)\n",
        "print(\"\\nStratified Sample:\\n\", stratified_sample)\n"
      ],
      "metadata": {
        "colab": {
          "base_uri": "https://localhost:8080/"
        },
        "id": "7daZyyhJ37md",
        "outputId": "391a7972-d184-41b1-e6be-238ec6216ce4"
      },
      "execution_count": null,
      "outputs": [
        {
          "output_type": "stream",
          "name": "stdout",
          "text": [
            "Random Sample:\n",
            "     values\n",
            "86      86\n",
            "52      52\n",
            "68      68\n",
            "57      57\n",
            "63      63\n",
            "22      22\n",
            "16      16\n",
            "71      71\n",
            "50      50\n",
            "39      39\n",
            "\n",
            "Stratified Sample:\n",
            "    Category  Value\n",
            "31        A     31\n",
            "10        A     10\n",
            "30        A     30\n",
            "49        A     49\n",
            "45        A     45\n",
            "55        B     55\n",
            "72        B     72\n",
            "63        B     63\n",
            "78        B     78\n",
            "79        B     79\n"
          ]
        },
        {
          "output_type": "stream",
          "name": "stderr",
          "text": [
            "/tmp/ipython-input-8-1291136799.py:11: DeprecationWarning: DataFrameGroupBy.apply operated on the grouping columns. This behavior is deprecated, and in a future version of pandas the grouping columns will be excluded from the operation. Either pass `include_groups=False` to exclude the groupings or explicitly select the grouping columns after groupby to silence this warning.\n",
            "  stratified_sample = df.groupby('Category', group_keys=False).apply(lambda x: x.sample(5))\n"
          ]
        }
      ]
    },
    {
      "cell_type": "code",
      "source": [
        "# 5. Python Function to Calculate Range\n",
        "def data_range(data):\n",
        "    return max(data) - min(data)\n",
        "\n",
        "print(data_range([1, 2, 4, 10, 20]))  # Output: 19\n"
      ],
      "metadata": {
        "colab": {
          "base_uri": "https://localhost:8080/"
        },
        "id": "4oUggt3L4H8y",
        "outputId": "3f9d2dbd-8ce8-4a20-fc99-69f1fee40f20"
      },
      "execution_count": null,
      "outputs": [
        {
          "output_type": "stream",
          "name": "stdout",
          "text": [
            "19\n"
          ]
        }
      ]
    },
    {
      "cell_type": "code",
      "source": [
        "#6. Plot Histogram to Visualize Skewness\n",
        "import matplotlib.pyplot as plt\n",
        "import numpy as np\n",
        "\n",
        "data = np.random.exponential(size=1000)\n",
        "plt.hist(data, bins=30)\n",
        "plt.title(\"Histogram for Skewness\")\n",
        "plt.show()\n"
      ],
      "metadata": {
        "colab": {
          "base_uri": "https://localhost:8080/",
          "height": 452
        },
        "id": "PGBIOrwV4Ozj",
        "outputId": "7f8a669a-1f33-44f9-d23d-4f6b885898f5"
      },
      "execution_count": null,
      "outputs": [
        {
          "output_type": "display_data",
          "data": {
            "text/plain": [
              "<Figure size 640x480 with 1 Axes>"
            ],
            "image/png": "[encoded data removed]"
          },
          "metadata": {}
        }
      ]
    },
    {
      "cell_type": "code",
      "source": [
        "#7. Calculate Skewness and Kurtosis\n",
        "from scipy.stats import skew, kurtosis\n",
        "import numpy as np\n",
        "\n",
        "data = np.random.exponential(size=1000)\n",
        "print(\"Skewness:\", skew(data))\n",
        "print(\"Kurtosis:\", kurtosis(data))\n"
      ],
      "metadata": {
        "colab": {
          "base_uri": "https://localhost:8080/"
        },
        "id": "AEszqffR4T_K",
        "outputId": "0282ad08-99a6-42e9-d430-86630be2cbed"
      },
      "execution_count": null,
      "outputs": [
        {
          "output_type": "stream",
          "name": "stdout",
          "text": [
            "Skewness: 1.798915744021424\n",
            "Kurtosis: 4.163613934939298\n"
          ]
        }
      ]
    },
    {
      "cell_type": "code",
      "source": [
        "#8. Generate Positive & Negative Skewed Data\n",
        "import seaborn as sns\n",
        "import matplotlib.pyplot as plt\n",
        "\n",
        "# Positive skew\n",
        "pos_skew = np.random.exponential(scale=2, size=1000)\n",
        "# Negative skew\n",
        "neg_skew = -np.random.exponential(scale=2, size=1000)\n",
        "\n",
        "sns.histplot(pos_skew, kde=True).set(title=\"Positive Skew\")\n",
        "plt.show()\n",
        "\n",
        "sns.histplot(neg_skew, kde=True).set(title=\"Negative Skew\")\n",
        "plt.show()\n"
      ],
      "metadata": {
        "colab": {
          "base_uri": "https://localhost:8080/",
          "height": 887
        },
        "id": "fqGEf6hL4cW2",
        "outputId": "6342bf2c-2897-42d4-9fb8-d6b1d71e209f"
      },
      "execution_count": null,
      "outputs": [
        {
          "output_type": "display_data",
          "data": {
            "text/plain": [
              "<Figure size 640x480 with 1 Axes>"
            ],
            "image/png": "[encoded data removed]"
          },
          "metadata": {}
        },
        {
          "output_type": "display_data",
          "data": {
            "text/plain": [
              "<Figure size 640x480 with 1 Axes>"
            ],
            "image/png": "[encoded data removed]"
          },
          "metadata": {}
        }
      ]
    },
    {
      "cell_type": "code",
      "source": [
        "#9. Covariance between Two Datasets\n",
        "import numpy as np\n",
        "\n",
        "x = np.random.randint(10, 50, 100)\n",
        "y = x + np.random.randint(-5, 5, 100)\n",
        "\n",
        "cov_matrix = np.cov(x, y)\n",
        "print(\"Covariance:\\n\", cov_matrix)\n"
      ],
      "metadata": {
        "colab": {
          "base_uri": "https://localhost:8080/"
        },
        "id": "-AwrmJon4f8k",
        "outputId": "d81227f0-0143-4f74-fec5-db30cbd46c9d"
      },
      "execution_count": null,
      "outputs": [
        {
          "output_type": "stream",
          "name": "stdout",
          "text": [
            "Covariance:\n",
            " [[130.41454545 129.31353535]\n",
            " [129.31353535 136.96      ]]\n"
          ]
        }
      ]
    },
    {
      "cell_type": "code",
      "source": [
        "#10. Correlation Coefficient\n",
        "correlation = np.corrcoef(x, y)\n",
        "print(\"Correlation:\\n\", correlation)\n"
      ],
      "metadata": {
        "colab": {
          "base_uri": "https://localhost:8080/"
        },
        "id": "7hOrcql14lMh",
        "outputId": "37ba848c-73ae-4257-ab5d-be5450a31fbb"
      },
      "execution_count": null,
      "outputs": [
        {
          "output_type": "stream",
          "name": "stdout",
          "text": [
            "Correlation:\n",
            " [[1.         0.96757379]\n",
            " [0.96757379 1.        ]]\n"
          ]
        }
      ]
    },
    {
      "cell_type": "code",
      "source": [
        "#11. Scatter Plot to Visualize Correlation\n",
        "import matplotlib.pyplot as plt\n",
        "\n",
        "plt.scatter(x, y)\n",
        "plt.title(\"Scatter Plot\")\n",
        "plt.xlabel(\"X\")\n",
        "plt.ylabel(\"Y\")\n",
        "plt.show()\n"
      ],
      "metadata": {
        "colab": {
          "base_uri": "https://localhost:8080/",
          "height": 472
        },
        "id": "-cyj2xlf4xbW",
        "outputId": "648b0db4-dfb0-4c4c-f1cf-0a4e8fcd5900"
      },
      "execution_count": null,
      "outputs": [
        {
          "output_type": "display_data",
          "data": {
            "text/plain": [
              "<Figure size 640x480 with 1 Axes>"
            ],
            "image/png": "[encoded data removed]"
          },
          "metadata": {}
        }
      ]
    },
    {
      "cell_type": "code",
      "source": [
        "#12. Simple Random vs Systematic Sampling\n",
        "data = pd.DataFrame({'ID': range(1, 101)})\n",
        "\n",
        "# Simple random\n",
        "simple_random = data.sample(n=10)\n",
        "\n",
        "# Systematic (every 10th)\n",
        "systematic = data.iloc[::10]\n",
        "\n",
        "print(\"Simple Random:\\n\", simple_random)\n",
        "print(\"Systematic:\\n\", systematic)\n"
      ],
      "metadata": {
        "colab": {
          "base_uri": "https://localhost:8080/"
        },
        "id": "iLBfPPeG41qH",
        "outputId": "a997100c-144b-4733-bd57-ba718187773a"
      },
      "execution_count": null,
      "outputs": [
        {
          "output_type": "stream",
          "name": "stdout",
          "text": [
            "Simple Random:\n",
            "     ID\n",
            "95  96\n",
            "1    2\n",
            "39  40\n",
            "50  51\n",
            "49  50\n",
            "58  59\n",
            "36  37\n",
            "98  99\n",
            "37  38\n",
            "52  53\n",
            "Systematic:\n",
            "     ID\n",
            "0    1\n",
            "10  11\n",
            "20  21\n",
            "30  31\n",
            "40  41\n",
            "50  51\n",
            "60  61\n",
            "70  71\n",
            "80  81\n",
            "90  91\n"
          ]
        }
      ]
    },
    {
      "cell_type": "code",
      "source": [
        "#13. Mean, Median, Mode of Grouped Data\n",
        "import pandas as pd\n",
        "\n",
        "# Grouped frequency table\n",
        "data = pd.DataFrame({\n",
        "    \"Class\": [\"0-10\", \"10-20\", \"20-30\", \"30-40\"],\n",
        "    \"Frequency\": [5, 8, 15, 7]\n",
        "})\n",
        "\n",
        "# Midpoints\n",
        "data[\"Mid\"] = [5, 15, 25, 35]\n",
        "mean = sum(data[\"Mid\"] * data[\"Frequency\"]) / sum(data[\"Frequency\"])\n",
        "print(f\"Grouped Mean: {mean}\")\n"
      ],
      "metadata": {
        "colab": {
          "base_uri": "https://localhost:8080/"
        },
        "id": "F3H1hidg46PA",
        "outputId": "e75390a8-e898-42fd-97a3-ebaf4d4c8cb2"
      },
      "execution_count": null,
      "outputs": [
        {
          "output_type": "stream",
          "name": "stdout",
          "text": [
            "Grouped Mean: 21.857142857142858\n"
          ]
        }
      ]
    },
    {
      "cell_type": "code",
      "source": [
        "#14. Simulate Data and Calculate Central Tendency & Dispersion\n",
        "data = np.random.normal(loc=50, scale=10, size=1000)\n",
        "print(\"Mean:\", np.mean(data))\n",
        "print(\"Median:\", np.median(data))\n",
        "print(\"Std Dev:\", np.std(data))\n",
        "print(\"Variance:\", np.var(data))\n"
      ],
      "metadata": {
        "colab": {
          "base_uri": "https://localhost:8080/"
        },
        "id": "C-lRYDMO4-FI",
        "outputId": "8128001f-e768-4492-b743-70261d2957ec"
      },
      "execution_count": null,
      "outputs": [
        {
          "output_type": "stream",
          "name": "stdout",
          "text": [
            "Mean: 50.25258765096299\n",
            "Median: 50.37617910377939\n",
            "Std Dev: 10.141949972380232\n",
            "Variance: 102.8591492422634\n"
          ]
        }
      ]
    },
    {
      "cell_type": "code",
      "source": [
        "#15. Summary using NumPy / pandas\n",
        "df = pd.DataFrame({'Scores': np.random.normal(50, 15, 100)})\n",
        "print(df.describe())\n"
      ],
      "metadata": {
        "colab": {
          "base_uri": "https://localhost:8080/"
        },
        "id": "CWdHdiBl5BhO",
        "outputId": "b13f6989-a1bb-4971-f346-482a10958c3c"
      },
      "execution_count": null,
      "outputs": [
        {
          "output_type": "stream",
          "name": "stdout",
          "text": [
            "           Scores\n",
            "count  100.000000\n",
            "mean    51.209516\n",
            "std     14.086672\n",
            "min     21.474662\n",
            "25%     40.609279\n",
            "50%     51.896430\n",
            "75%     60.350322\n",
            "max     85.231642\n"
          ]
        }
      ]
    },
    {
      "cell_type": "code",
      "source": [
        "#16. Boxplot to Detect Outliers\n",
        "sns.boxplot(x=df['Scores'])\n",
        "plt.title(\"Boxplot\")\n",
        "plt.show()\n"
      ],
      "metadata": {
        "colab": {
          "base_uri": "https://localhost:8080/",
          "height": 472
        },
        "id": "ciM46HbI5HAg",
        "outputId": "007f63ef-22b1-4385-dea9-17cbd5c264ac"
      },
      "execution_count": null,
      "outputs": [
        {
          "output_type": "display_data",
          "data": {
            "text/plain": [
              "<Figure size 640x480 with 1 Axes>"
            ],
            "image/png": "[encoded data removed]"
          },
          "metadata": {}
        }
      ]
    },
    {
      "cell_type": "code",
      "source": [
        "#17. Interquartile Range (IQR)\n",
        "Q1 = df['Scores'].quantile(0.25)\n",
        "Q3 = df['Scores'].quantile(0.75)\n",
        "IQR = Q3 - Q1\n",
        "print(f\"IQR: {IQR}\")\n"
      ],
      "metadata": {
        "colab": {
          "base_uri": "https://localhost:8080/"
        },
        "id": "VSK1a2FT5K91",
        "outputId": "ba41ad72-7a65-4550-88d8-a4cb0df50fd7"
      },
      "execution_count": null,
      "outputs": [
        {
          "output_type": "stream",
          "name": "stdout",
          "text": [
            "IQR: 19.741043079462266\n"
          ]
        }
      ]
    },
    {
      "cell_type": "code",
      "source": [
        "#18. Z-score Normalization\n",
        "from scipy.stats import zscore\n",
        "df['Z_Score'] = zscore(df['Scores'])\n",
        "print(df.head())\n"
      ],
      "metadata": {
        "colab": {
          "base_uri": "https://localhost:8080/"
        },
        "id": "EIgZU4_D5OQj",
        "outputId": "24943a4e-281c-4909-dabd-8f82924545a9"
      },
      "execution_count": null,
      "outputs": [
        {
          "output_type": "stream",
          "name": "stdout",
          "text": [
            "      Scores   Z_Score\n",
            "0  53.152029  0.138592\n",
            "1  37.531514 -0.975881\n",
            "2  68.760408  1.252199\n",
            "3  58.000599  0.484521\n",
            "4  41.061811 -0.724006\n"
          ]
        }
      ]
    },
    {
      "cell_type": "code",
      "source": [
        "#19. Compare Two Datasets' Standard Deviation\n",
        "data1 = np.random.normal(50, 5, 100)\n",
        "data2 = np.random.normal(50, 15, 100)\n",
        "\n",
        "print(\"SD of Data 1:\", np.std(data1))\n",
        "print(\"SD of Data 2:\", np.std(data2))\n"
      ],
      "metadata": {
        "colab": {
          "base_uri": "https://localhost:8080/"
        },
        "id": "oAQfje9K5SGc",
        "outputId": "819652bd-29b8-44ce-8608-cc45cd0f7401"
      },
      "execution_count": null,
      "outputs": [
        {
          "output_type": "stream",
          "name": "stdout",
          "text": [
            "SD of Data 1: 4.900410725256701\n",
            "SD of Data 2: 13.894899095304833\n"
          ]
        }
      ]
    },
    {
      "cell_type": "code",
      "source": [
        "#20. Covariance Heatmap\n",
        "import seaborn as sns\n",
        "\n",
        "df = pd.DataFrame({\n",
        "    'A': np.random.normal(0, 1, 100),\n",
        "    'B': np.random.normal(0, 1, 100)\n",
        "})\n",
        "sns.heatmap(df.cov(), annot=True, cmap=\"coolwarm\")\n",
        "plt.title(\"Covariance Heatmap\")\n",
        "plt.show()\n"
      ],
      "metadata": {
        "colab": {
          "base_uri": "https://localhost:8080/",
          "height": 452
        },
        "id": "X4vF8pBk5XEN",
        "outputId": "c7752597-221c-42a0-b68a-eb698a3311b6"
      },
      "execution_count": null,
      "outputs": [
        {
          "output_type": "display_data",
          "data": {
            "text/plain": [
              "<Figure size 640x480 with 2 Axes>"
            ],
            "image/png": "[encoded data removed]"
          },
          "metadata": {}
        }
      ]
    },
    {
      "cell_type": "code",
      "source": [
        "#21. Correlation Matrix using seaborn\n",
        "sns.heatmap(df.corr(), annot=True, cmap=\"YlGnBu\")\n",
        "plt.title(\"Correlation Matrix\")\n",
        "plt.show()\n"
      ],
      "metadata": {
        "colab": {
          "base_uri": "https://localhost:8080/",
          "height": 452
        },
        "id": "UAt6ulLk5bG8",
        "outputId": "8dd6ac83-e86d-469c-8208-df2e77ccc0a3"
      },
      "execution_count": null,
      "outputs": [
        {
          "output_type": "display_data",
          "data": {
            "text/plain": [
              "<Figure size 640x480 with 2 Axes>"
            ],
            "image/png": "[encoded data removed]"
          },
          "metadata": {}
        }
      ]
    },
    {
      "cell_type": "code",
      "source": [
        "#22. Variance and Standard Deviation\n",
        "data = np.random.randint(10, 100, 50)\n",
        "print(\"Variance:\", np.var(data))\n",
        "print(\"Standard Deviation:\", np.std(data))\n"
      ],
      "metadata": {
        "colab": {
          "base_uri": "https://localhost:8080/"
        },
        "id": "fEFz8lTo5kSY",
        "outputId": "3c0348cd-6c88-4608-862e-a44e6e4eefb6"
      },
      "execution_count": null,
      "outputs": [
        {
          "output_type": "stream",
          "name": "stdout",
          "text": [
            "Variance: 484.7056\n",
            "Standard Deviation: 22.016030523234654\n"
          ]
        }
      ]
    },
    {
      "cell_type": "code",
      "source": [
        "#23. Visualize Skewness & Kurtosis\n",
        "import seaborn as sns\n",
        "from scipy.stats import kurtosis, skew\n",
        "\n",
        "sns.histplot(data, kde=True)\n",
        "plt.title(\"Data Distribution\")\n",
        "plt.show()\n",
        "\n",
        "print(\"Skewness:\", skew(data))\n",
        "print(\"Kurtosis:\", kurtosis(data))\n"
      ],
      "metadata": {
        "colab": {
          "base_uri": "https://localhost:8080/",
          "height": 487
        },
        "id": "62VYpt9F5rI5",
        "outputId": "346b5711-0978-474d-f05e-b39f9a854781"
      },
      "execution_count": null,
      "outputs": [
        {
          "output_type": "display_data",
          "data": {
            "text/plain": [
              "<Figure size 640x480 with 1 Axes>"
            ],
            "image/png": "[encoded data removed]"
          },
          "metadata": {}
        },
        {
          "output_type": "stream",
          "name": "stdout",
          "text": [
            "Skewness: 0.5088657578127922\n",
            "Kurtosis: -0.5706782442834055\n"
          ]
        }
      ]
    },
    {
      "cell_type": "code",
      "source": [
        "#24. Pearson and Spearman Correlation\n",
        "from scipy.stats import pearsonr, spearmanr\n",
        "\n",
        "x = np.random.normal(0, 1, 100)\n",
        "y = x**2 + np.random.normal(0, 1, 100)\n",
        "\n",
        "print(\"Pearson:\", pearsonr(x, y))\n",
        "print(\"Spearman:\", spearmanr(x, y))\n"
      ],
      "metadata": {
        "colab": {
          "base_uri": "https://localhost:8080/"
        },
        "id": "f9V7rUeI5vvd",
        "outputId": "1999769a-f48f-4103-a699-6f1e736c66e1"
      },
      "execution_count": null,
      "outputs": [
        {
          "output_type": "stream",
          "name": "stdout",
          "text": [
            "Pearson: PearsonRResult(statistic=np.float64(0.17732749678616666), pvalue=np.float64(0.07756431341416684))\n",
            "Spearman: SignificanceResult(statistic=np.float64(0.05081308130813081), pvalue=np.float64(0.6156204791507902))\n"
          ]
        }
      ]
    },
    {
      "cell_type": "code",
      "source": [],
      "metadata": {
        "id": "UwUGfO5G5z_C"
      },
      "execution_count": null,
      "outputs": []
    }
  ]
}